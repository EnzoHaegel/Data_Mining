{
 "cells": [
  {
   "attachments": {},
   "cell_type": "markdown",
   "metadata": {},
   "source": [
    "Let's start to convert league of legends match data in json to sequence database\n",
    "For each match, get champion name of each participants\n",
    "[info][participants][championName]"
   ]
  },
  {
   "cell_type": "code",
   "execution_count": 1,
   "metadata": {},
   "outputs": [],
   "source": [
    "import json\n",
    "import os\n",
    "\n",
    "MATCH_PATH = './match'\n",
    "\n",
    "# files paths: ./match\n",
    "sequences = []\n",
    "# open and read every files of the directory match\n",
    "for file in os.listdir(MATCH_PATH):\n",
    "    with open(MATCH_PATH + '/' + file, 'r', encoding='utf-8') as f:\n",
    "        try:\n",
    "            data = json.load(f)\n",
    "        except:\n",
    "            continue\n",
    "    \n",
    "    champion_team_a = []\n",
    "    champion_team_b = []\n",
    "    # extract the champion played by the players\n",
    "    info = data.get('info')\n",
    "    if info:\n",
    "        participants = info.get('participants')\n",
    "        if participants:\n",
    "            for player in participants:\n",
    "                teamId = player.get('teamId')\n",
    "                championName = player.get('championName')\n",
    "                if teamId and teamId == 100:\n",
    "                    champion_team_a.append(championName)\n",
    "                elif teamId and teamId == 200:\n",
    "                    champion_team_b.append(championName)\n",
    "    \n",
    "    # add the sequence to the list\n",
    "    sequences.append(champion_team_a)\n",
    "    sequences.append(champion_team_b)\n",
    "\n",
    "# print\n",
    "# print(sequences)\n",
    "    "
   ]
  },
  {
   "attachments": {},
   "cell_type": "markdown",
   "metadata": {},
   "source": [
    "Creates differents sequence database for duo champions"
   ]
  },
  {
   "cell_type": "code",
   "execution_count": 6,
   "metadata": {},
   "outputs": [],
   "source": [
    "# divide each sequences in sub-sequences of each duo of champions\n",
    "# ex: [Aatrox, Ahri, Akali] -> [[Aatrox, Ahri], [Aatrox, Akali], [Ahri, Akali]]\n",
    "\n",
    "# list of all the sub-sequences\n",
    "sub_sequences = []\n",
    "for sequence in sequences:\n",
    "    # list of the sub-sequences of the current sequence\n",
    "    sub_sequence = []\n",
    "    for i in range(len(sequence)):\n",
    "        for j in range(i+1, len(sequence)):\n",
    "            sub_sequence.append([sequence[i], sequence[j]])\n",
    "    sub_sequences += sub_sequence\n",
    "\n",
    "# print\n",
    "# print(sub_sequences)"
   ]
  },
  {
   "attachments": {},
   "cell_type": "markdown",
   "metadata": {},
   "source": [
    "Then use the SPADE algorithm to mine for frequent sequential patterns. The SPADE algorithm works by finding frequent itemsets (sets of items that appear together frequently) and then extending these itemsets into longer sequential patterns. You can specify a minimum support threshold, which determines the minimum frequency at which a pattern will be considered frequent."
   ]
  },
  {
   "cell_type": "code",
   "execution_count": 24,
   "metadata": {},
   "outputs": [
    {
     "name": "stdout",
     "output_type": "stream",
     "text": [
      "[\"['Lucian', 'Nami']\", \"['Kaisa', 'Nautilus']\"]\n",
      "Limit threshold: 87\n"
     ]
    }
   ],
   "source": [
    "# Use the spade algorithm to find the frequent sequences\n",
    "# do the spade algorythm from scratch without using the library\n",
    "\n",
    "def spade(sub_sequences, min_support):\n",
    "    # count the number of occurence of each sub-sequences\n",
    "    count = {}\n",
    "    for sub_sequence in sub_sequences:\n",
    "        key = str(sub_sequence)\n",
    "        if key in count:\n",
    "            count[key] += 1\n",
    "        else:\n",
    "            count[key] = 1\n",
    "\n",
    "    # print\n",
    "    # print(count)\n",
    "\n",
    "    # keep only the sub-sequences that have a support greater than the min_support\n",
    "    frequent_sequences = []\n",
    "    for sub_sequence in count:\n",
    "        if count[sub_sequence] >= min_support:\n",
    "            frequent_sequences.append(sub_sequence)\n",
    "\n",
    "    # print\n",
    "    # print(frequent_sequences)\n",
    "\n",
    "    return frequent_sequences\n",
    "\n",
    "# print\n",
    "print(spade(sub_sequences, 30))\n",
    "\n",
    "threshold = 0\n",
    "while spade(sub_sequences, threshold) != []:\n",
    "    threshold += 1\n",
    "print('Limit threshold: ' + str(threshold))"
   ]
  }
 ],
 "metadata": {
  "kernelspec": {
   "display_name": "TensoFlow",
   "language": "python",
   "name": "python3"
  },
  "language_info": {
   "codemirror_mode": {
    "name": "ipython",
    "version": 3
   },
   "file_extension": ".py",
   "mimetype": "text/x-python",
   "name": "python",
   "nbconvert_exporter": "python",
   "pygments_lexer": "ipython3",
   "version": "3.7.13"
  },
  "orig_nbformat": 4,
  "vscode": {
   "interpreter": {
    "hash": "bf08deca5663318b6aca0c59a066f8ef2633fc4f11c66bcb9e7a59b1da143e5a"
   }
  }
 },
 "nbformat": 4,
 "nbformat_minor": 2
}
